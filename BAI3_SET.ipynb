{
  "nbformat": 4,
  "nbformat_minor": 0,
  "metadata": {
    "colab": {
      "provenance": [],
      "collapsed_sections": [],
      "authorship_tag": "ABX9TyP+lgIwjU8YUoHqXvPD1mLU",
      "include_colab_link": true
    },
    "kernelspec": {
      "name": "python3",
      "display_name": "Python 3"
    },
    "language_info": {
      "name": "python"
    }
  },
  "cells": [
    {
      "cell_type": "markdown",
      "metadata": {
        "id": "view-in-github",
        "colab_type": "text"
      },
      "source": [
        "<a href=\"https://colab.research.google.com/github/hoangthanhk3/thanh/blob/main/BAI3_SET.ipynb\" target=\"_parent\"><img src=\"https://colab.research.google.com/assets/colab-badge.svg\" alt=\"Open In Colab\"/></a>"
      ]
    },
    {
      "cell_type": "code",
      "execution_count": 4,
      "metadata": {
        "colab": {
          "base_uri": "https://localhost:8080/"
        },
        "id": "Su_Qjqc2p7ec",
        "outputId": "7db0d278-c1b4-472b-d46b-1af51d85d805"
      },
      "outputs": [
        {
          "output_type": "stream",
          "name": "stdout",
          "text": [
            "A= {'NNLT Python', 'Thể dục', 'Tiếng Anh chuyên ngành', 'Đại số tuyến tính'}\n",
            "B= {'Computer  vision', 'NNLT Python', 'Recommender Systems', 'Học sâu', 'Học Máy', 'Natural Language Processing', 'Tối ưu hóa', 'Đại số tuyến tính'}\n"
          ]
        }
      ],
      "source": [
        "A = {'NNLT Python', 'Đại số tuyến tính', 'Tiếng Anh chuyên ngành', 'Thể dục'}\n",
        "B = {'NNLT Python', 'Đại số tuyến tính', 'Tối ưu hóa', 'Học Máy', 'Học sâu', 'Computer  vision', 'Natural Language Processing', 'Recommender Systems'}\n",
        "print('A=',A)\n",
        "print('B=',B)"
      ]
    },
    {
      "cell_type": "code",
      "source": [
        "print('A U B=', A.union(B))"
      ],
      "metadata": {
        "colab": {
          "base_uri": "https://localhost:8080/"
        },
        "id": "Q9vXWkecrb4f",
        "outputId": "c6238937-fd55-427a-a7b5-af3fd6bdb7d1"
      },
      "execution_count": 5,
      "outputs": [
        {
          "output_type": "stream",
          "name": "stdout",
          "text": [
            "A U B= {'Computer  vision', 'NNLT Python', 'Tiếng Anh chuyên ngành', 'Recommender Systems', 'Học sâu', 'Học Máy', 'Natural Language Processing', 'Thể dục', 'Tối ưu hóa', 'Đại số tuyến tính'}\n"
          ]
        }
      ]
    },
    {
      "cell_type": "code",
      "source": [
        "print('A U B=', A.intersection(B))"
      ],
      "metadata": {
        "colab": {
          "base_uri": "https://localhost:8080/"
        },
        "id": "Ie7THsHCsUO4",
        "outputId": "14b99ee9-f36b-4518-c852-30f8e2af2bf5"
      },
      "execution_count": 7,
      "outputs": [
        {
          "output_type": "stream",
          "name": "stdout",
          "text": [
            "A U B= {'NNLT Python', 'Đại số tuyến tính'}\n"
          ]
        }
      ]
    },
    {
      "cell_type": "code",
      "source": [
        "print('A \\ B=', A.difference(B))"
      ],
      "metadata": {
        "colab": {
          "base_uri": "https://localhost:8080/"
        },
        "id": "a_frahfNsoOP",
        "outputId": "6c70cf15-e44d-4850-c027-e11a8e97a926"
      },
      "execution_count": 8,
      "outputs": [
        {
          "output_type": "stream",
          "name": "stdout",
          "text": [
            "A \\ B= {'Tiếng Anh chuyên ngành', 'Thể dục'}\n"
          ]
        }
      ]
    },
    {
      "cell_type": "code",
      "source": [
        "print('B \\ A=', B.difference(A))"
      ],
      "metadata": {
        "colab": {
          "base_uri": "https://localhost:8080/"
        },
        "id": "WM7STlUxsvkP",
        "outputId": "e8109b8f-f8f1-43d4-a511-d3f2c0dc9236"
      },
      "execution_count": 9,
      "outputs": [
        {
          "output_type": "stream",
          "name": "stdout",
          "text": [
            "B \\ A= {'Computer  vision', 'Recommender Systems', 'Học sâu', 'Học Máy', 'Natural Language Processing', 'Tối ưu hóa'}\n"
          ]
        }
      ]
    },
    {
      "cell_type": "code",
      "source": [
        "x = [1, 1, 1, 2, 2, 3, 3 ,3, 4 ,5 ,6, 7]\n",
        "print(x)"
      ],
      "metadata": {
        "colab": {
          "base_uri": "https://localhost:8080/"
        },
        "id": "UDt85K26s6pA",
        "outputId": "88be321a-21d7-40aa-839d-82aac182af4b"
      },
      "execution_count": 10,
      "outputs": [
        {
          "output_type": "stream",
          "name": "stdout",
          "text": [
            "[1, 1, 1, 2, 2, 3, 3, 3, 4, 5, 6, 7]\n"
          ]
        }
      ]
    },
    {
      "cell_type": "code",
      "source": [
        "x = set(x)\n",
        "print(x)"
      ],
      "metadata": {
        "colab": {
          "base_uri": "https://localhost:8080/"
        },
        "id": "aOwVa-SvtCwG",
        "outputId": "f1dbf71b-33f6-467a-a4e3-e9090ae0dc8e"
      },
      "execution_count": 13,
      "outputs": [
        {
          "output_type": "stream",
          "name": "stdout",
          "text": [
            "{1, 2, 3, 4, 5, 6, 7}\n"
          ]
        }
      ]
    }
  ]
}